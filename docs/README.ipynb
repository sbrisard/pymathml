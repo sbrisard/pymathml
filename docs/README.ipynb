{
 "cells": [
  {
   "cell_type": "markdown",
   "metadata": {},
   "source": [
    "# PyMathML\n",
    "\n",
    "PyMathML is a Python package to create MathML expressions programatically.\n",
    "\n",
    "The present version of PyMathML is restricted to *Presentation MathML* (see\n",
    "MathML specifications, [chapter 3](https://www.w3.org/TR/MathML3/chapter3.html)).\n",
    "\n",
    "MathML is extremely verbose; with PyMathML, concise, pythonic expressions are\n",
    "converted to valid, well-formed MathML code. For example, the following snippet:"
   ]
  },
  {
   "cell_type": "code",
   "execution_count": 1,
   "metadata": {
    "collapsed": true
   },
   "outputs": [],
   "source": [
    "from pymathml import *\n",
    "from pymathml.utils import *"
   ]
  },
  {
   "cell_type": "code",
   "execution_count": 2,
   "metadata": {
    "collapsed": true
   },
   "outputs": [],
   "source": [
    "a, b = identifiers('a', 'b')\n",
    "expr = a**2+2*a*b+b**2"
   ]
  },
  {
   "cell_type": "markdown",
   "metadata": {},
   "source": [
    "defines the mathematical expression ``a²+2ab+b²``. PyMathML then produces the following MathML code"
   ]
  },
  {
   "cell_type": "code",
   "execution_count": 3,
   "metadata": {},
   "outputs": [
    {
     "name": "stdout",
     "output_type": "stream",
     "text": [
      "<mrow><mrow><msup><mi>a</mi><mn>2</mn></msup><mo>+</mo><mrow><mrow><mn>2</mn><mo>⁢</mo><mi>a</mi></mrow><mo>⁢</mo><mi>b</mi></mrow></mrow><mo>+</mo><msup><mi>b</mi><mn>2</mn></msup></mrow>\n"
     ]
    }
   ],
   "source": [
    "print(expr)"
   ]
  },
  {
   "cell_type": "markdown",
   "metadata": {},
   "source": [
    "*This code is released under a BSD 3-clause \"New\" or \"Revised\" License. It is\n",
    "open to contributions.*\n",
    "\n",
    "To install PyMathML, clone this repository and issue the following command:\n",
    "\n",
    "    python setyp.py install\n",
    "\n",
    "The remainder of this page is a tutorial. It is organized as follows:\n",
    "  \n",
    "  - [Converting PyMathML expressions to MathML](#converting-pymathml-expressions-to-mathml)\n",
    "  - [Basic MathML elements](#basic-mathml-elements)\n",
    "    - [Token elements](#token-elements)\n",
    "    - [Non-token elements](#non-token-elements)\n",
    "  - [Building complex expressions with special methods](#building-complex-expressions-with-special-methods)\n",
    "  - [Mathematical operations](#mathematical-operations)\n",
    "    - [Unary operations](#unary-operations)\n",
    "    - [Binary operations](#binary-operations)\n",
    "    - [N-ary operations](#n-ary-operations)\n",
    "  - [Convenience functions](#convenience-functions)\n",
    "    \n",
    "This ``README.md`` is the Markdown export of a Jupyter Notebook which can be\n",
    "found in the ``docs/`` directory of this repository."
   ]
  },
  {
   "cell_type": "code",
   "execution_count": 4,
   "metadata": {
    "collapsed": true
   },
   "outputs": [],
   "source": [
    "import inspect # This will be used below"
   ]
  },
  {
   "cell_type": "markdown",
   "metadata": {},
   "source": [
    "## Converting PyMathML expressions to MathML"
   ]
  },
  {
   "cell_type": "markdown",
   "metadata": {},
   "source": [
    "Let us define a basic PyMathML expression:"
   ]
  },
  {
   "cell_type": "code",
   "execution_count": 5,
   "metadata": {
    "collapsed": true
   },
   "outputs": [],
   "source": [
    "a, b, c, x = identifiers('a', 'b', 'c', 'x')\n",
    "expr = a*x**2+b*x+c # ax²+bx+c"
   ]
  },
  {
   "cell_type": "markdown",
   "metadata": {},
   "source": [
    "Then ``str(expr)`` returns its MathML representation:"
   ]
  },
  {
   "cell_type": "code",
   "execution_count": 6,
   "metadata": {},
   "outputs": [
    {
     "data": {
      "text/plain": [
       "'<mrow><mrow><mrow><mi>a</mi><mo>\\u2062</mo><msup><mi>x</mi><mn>2</mn></msup></mrow><mo>+</mo><mrow><mi>b</mi><mo>\\u2062</mo><mi>x</mi></mrow></mrow><mo>+</mo><mi>c</mi></mrow>'"
      ]
     },
     "execution_count": 6,
     "metadata": {},
     "output_type": "execute_result"
    }
   ],
   "source": [
    "str(expr)"
   ]
  },
  {
   "cell_type": "markdown",
   "metadata": {},
   "source": [
    "PyMathML expressions can be displayed (using MathJax) in Jupyter notebooks\n",
    "(note: owing to limitations of Github Flavored Markdown, you really need to\n",
    "execute the Jupyter Notebook in the ``docs/`` directory to see the output of\n",
    "this cell properly)."
   ]
  },
  {
   "cell_type": "code",
   "execution_count": 7,
   "metadata": {},
   "outputs": [
    {
     "data": {
      "text/html": [
       "<math display=\"block\" xmlns=\"http://www.w3.org/1998/Math/MathML\"><mrow><mrow><mrow><mi>a</mi><mo>⁢</mo><msup><mi>x</mi><mn>2</mn></msup></mrow><mo>+</mo><mrow><mi>b</mi><mo>⁢</mo><mi>x</mi></mrow></mrow><mo>+</mo><mi>c</mi></mrow></math>"
      ],
      "text/plain": [
       "Plus(Plus(Times(Identifier('a'), Sup(Identifier('x'), Number(2))), Times(Identifier('b'), Identifier('x'))), Identifier('c'))"
      ]
     },
     "execution_count": 7,
     "metadata": {},
     "output_type": "execute_result"
    }
   ],
   "source": [
    "expr"
   ]
  },
  {
   "cell_type": "markdown",
   "metadata": {},
   "source": [
    "``expr.tomathml()`` returns the MathML representation of ``expr`` as an\n",
    "``Element`` from the ``xml.etree.ElementTree`` module in the\n",
    "[standard library](https://docs.python.org/3/library/xml.etree.elementtree.html#module-xml.etree.ElementTree):"
   ]
  },
  {
   "cell_type": "code",
   "execution_count": 8,
   "metadata": {},
   "outputs": [
    {
     "data": {
      "text/plain": [
       "xml.etree.ElementTree.Element"
      ]
     },
     "execution_count": 8,
     "metadata": {},
     "output_type": "execute_result"
    }
   ],
   "source": [
    "mml = expr.tomathml()\n",
    "type(mml)"
   ]
  },
  {
   "cell_type": "markdown",
   "metadata": {},
   "source": [
    "which can then be converted to XML as follows:"
   ]
  },
  {
   "cell_type": "code",
   "execution_count": 9,
   "metadata": {},
   "outputs": [
    {
     "name": "stdout",
     "output_type": "stream",
     "text": [
      "<mrow><mrow><mrow><mi>a</mi><mo>⁢</mo><msup><mi>x</mi><mn>2</mn></msup></mrow><mo>+</mo><mrow><mi>b</mi><mo>⁢</mo><mi>x</mi></mrow></mrow><mo>+</mo><mi>c</mi></mrow>\n"
     ]
    }
   ],
   "source": [
    "import xml.etree.ElementTree as ET\n",
    "\n",
    "print(ET.tostring(mml, encoding='unicode'))"
   ]
  },
  {
   "cell_type": "markdown",
   "metadata": {},
   "source": [
    "The function ``tomathml`` promotes its argument to a PyMathML expression, and\n",
    "calls the ``tomathml()`` method:"
   ]
  },
  {
   "cell_type": "code",
   "execution_count": 10,
   "metadata": {},
   "outputs": [
    {
     "name": "stdout",
     "output_type": "stream",
     "text": [
      "<mi>a</mi>\n"
     ]
    }
   ],
   "source": [
    "mml = tomathml('a')\n",
    "print(ET.tostring(mml, encoding=('unicode')))"
   ]
  },
  {
   "cell_type": "markdown",
   "metadata": {},
   "source": [
    "If the optional argument ``display`` is specified, the expression is enclosed\n",
    "in a ``math`` element, with the specified ``display`` attribute:"
   ]
  },
  {
   "cell_type": "code",
   "execution_count": 11,
   "metadata": {},
   "outputs": [
    {
     "name": "stdout",
     "output_type": "stream",
     "text": [
      "<math display=\"block\" xmlns=\"http://www.w3.org/1998/Math/MathML\"><mi>a</mi></math>\n"
     ]
    }
   ],
   "source": [
    "mml = tomathml('a', display='block')\n",
    "print(ET.tostring(mml, encoding=('unicode')))"
   ]
  },
  {
   "cell_type": "code",
   "execution_count": 12,
   "metadata": {},
   "outputs": [
    {
     "name": "stdout",
     "output_type": "stream",
     "text": [
      "<math display=\"inline\" xmlns=\"http://www.w3.org/1998/Math/MathML\"><mi>a</mi></math>\n"
     ]
    }
   ],
   "source": [
    "mml = tomathml('a', display='inline')\n",
    "print(ET.tostring(mml, encoding=('unicode')))"
   ]
  },
  {
   "cell_type": "markdown",
   "metadata": {},
   "source": [
    "The function ``tostring`` promotes its argument to a PyMathML expression, and\n",
    "returns its MathML representation as a string. It takes the same optional\n",
    "argument ``display`` as the ``tomathml`` function:"
   ]
  },
  {
   "cell_type": "code",
   "execution_count": 13,
   "metadata": {},
   "outputs": [
    {
     "data": {
      "text/plain": [
       "'<mi>a</mi>'"
      ]
     },
     "execution_count": 13,
     "metadata": {},
     "output_type": "execute_result"
    }
   ],
   "source": [
    "tostring('a')"
   ]
  },
  {
   "cell_type": "code",
   "execution_count": 14,
   "metadata": {},
   "outputs": [
    {
     "data": {
      "text/plain": [
       "'<math display=\"block\" xmlns=\"http://www.w3.org/1998/Math/MathML\"><mi>a</mi></math>'"
      ]
     },
     "execution_count": 14,
     "metadata": {},
     "output_type": "execute_result"
    }
   ],
   "source": [
    "tostring('a', display='block')"
   ]
  },
  {
   "cell_type": "code",
   "execution_count": 15,
   "metadata": {},
   "outputs": [
    {
     "data": {
      "text/plain": [
       "'<math display=\"inline\" xmlns=\"http://www.w3.org/1998/Math/MathML\"><mi>a</mi></math>'"
      ]
     },
     "execution_count": 15,
     "metadata": {},
     "output_type": "execute_result"
    }
   ],
   "source": [
    "tostring('a', display='inline')"
   ]
  },
  {
   "cell_type": "markdown",
   "metadata": {},
   "source": [
    "\n",
    "## Basic MathML elements\n",
    "\n",
    "All MathML elements are defined as PyMathML objects.\n",
    "\n",
    "### Token elements\n",
    "\n",
    "Token elements are MathML elements that have text, but no children (see MathML\n",
    "specifications,\n",
    "[section 3.1.9.1](https://www.w3.org/TR/MathML3/chapter3.html#id.3.1.9.1)).\n",
    "Token elements all derive from the ``Token`` class (see conversion table below).\n",
    "\n",
    "| MathML     | PyMathML          |\n",
    "|------------|------------------ |\n",
    "| ``mi``     | ``Identifier``    |\n",
    "| ``mn``     | ``Number``        |\n",
    "| ``mo``     | ``Operator``      |\n",
    "| ``mtext``  | ``Text``          |\n",
    "| ``mspace`` | *not implemented* |\n",
    "| ``ms``     | *not implemented* |\n",
    "\n",
    "Token elements are instantiated by passing to the initializer the text as a non\n",
    "keyword argument  and the attributes as keyword arguments:"
   ]
  },
  {
   "cell_type": "code",
   "execution_count": 16,
   "metadata": {},
   "outputs": [
    {
     "name": "stdout",
     "output_type": "stream",
     "text": [
      "<mi mathvariant=\"bold\">x</mi>\n"
     ]
    }
   ],
   "source": [
    "x = Identifier('x', mathvariant='bold')\n",
    "print(x)"
   ]
  },
  {
   "cell_type": "markdown",
   "metadata": {},
   "source": [
    "Note that any object can be passed as the \"text\" of the token element, provided\n",
    "that it can be converted to a string.\n",
    "\n",
    "### Non-token elements\n",
    "\n",
    "Non-token elements are\n",
    "\n",
    "  - general layout schemata (see MathML specifications,\n",
    "  [section 3.1.9.2](https://www.w3.org/TR/MathML3/chapter3.html#id.3.1.9.2)),\n",
    "  - script and limit schemata (see MathML specifications,\n",
    "  [section 3.1.9.3](https://www.w3.org/TR/MathML3/chapter3.html#id.3.1.9.3)),\n",
    "  - tables and matrices (see MathML specifications,\n",
    "  [section 3.1.9.4](https://www.w3.org/TR/MathML3/chapter3.html#id.3.1.9.4)).\n",
    "\n",
    "They all derive from the ``Expression`` class, and are instantiated by passing\n",
    "to the initializer the children expressions as non-keyword arguments, and the\n",
    "attributes as keyword arguments:"
   ]
  },
  {
   "cell_type": "code",
   "execution_count": 17,
   "metadata": {},
   "outputs": [
    {
     "name": "stdout",
     "output_type": "stream",
     "text": [
      "<msup superscriptshift=\"0.5em\"><mi>a</mi><mn>2</mn></msup>\n"
     ]
    }
   ],
   "source": [
    "expr = Sup('a', 2, superscriptshift='0.5em')\n",
    "print(expr)"
   ]
  },
  {
   "cell_type": "markdown",
   "metadata": {},
   "source": [
    "(note that strings and numbers are automatically converted to ``mi`` and ``mn``\n",
    "children elements, respectively). When relevant, the docstring of the derived\n",
    "``Element`` lists non-keyword arguments:"
   ]
  },
  {
   "cell_type": "code",
   "execution_count": 18,
   "metadata": {},
   "outputs": [
    {
     "name": "stdout",
     "output_type": "stream",
     "text": [
      "PyMathML representation of the msubsup element.\n",
      "\n",
      "See MathML specifications, section 3.4.3.\n",
      "\n",
      "Usage: SubSup(base, subscript, superscript, **attributes)\n",
      "\n",
      "which produces the following MathML code:\n",
      "\n",
      "    <msubsup>\n",
      "        tomathml(base)\n",
      "        tomathml(subscript)\n",
      "        tomathml(superscript)\n",
      "    </msubsup>\n"
     ]
    }
   ],
   "source": [
    "print(inspect.getdoc(SubSup))"
   ]
  },
  {
   "cell_type": "markdown",
   "metadata": {},
   "source": [
    "#### Conversion table for general layout schemata\n",
    "\n",
    "| MathML       | PyMathML          |\n",
    "|--------------|-------------------|\n",
    "| ``mrow``     | ``Row``           |\n",
    "| ``mfrac``    | ``Frac``          |\n",
    "| ``msqrt``    | ``Sqrt``          |\n",
    "| ``mroot``    | ``Root``          |\n",
    "| ``mstyle``   | ``Style``         |\n",
    "| ``merror``   | *not implemented* |\n",
    "| ``mpadded``  | *not implemented* |\n",
    "| ``mphantom`` | *not implemented* |\n",
    "| ``mfenced``  | ``Fenced``        |\n",
    "| ``menclose`` | *not implemented* |\n",
    "\n",
    "#### Conversion table for script and limit schemata\n",
    "\n",
    "| MathML            | PyMathML          |\n",
    "|-------------------|-------------------|\n",
    "| ``msub``          | ``Sub``           |\n",
    "| ``msup``          | ``Sup``           |\n",
    "| ``msubsup``       | ``SubSup``        |\n",
    "| ``munder``        | ``Under``         |\n",
    "| ``mover``         | ``Over``          |\n",
    "| ``munderover``    | ``UnderOver``     |\n",
    "| ``mmultiscripts`` | *not implemented* |\n",
    "\n",
    "#### Conversion table for tables and matrices\n",
    "\n",
    "| MathML          | PyMathML          |\n",
    "|-----------------|-------------------|\n",
    "| ``mtable``      | ``Table``         |\n",
    "| ``mlabeledtr``  | *not implemented* |\n",
    "| ``mtr``         | ``TableRow``      |\n",
    "| ``mtd``         | ``TableEntry``    |\n",
    "| ``maligngroup`` | *not implemented* |\n",
    "| ``malignmark``  | *not implemented* |"
   ]
  },
  {
   "cell_type": "markdown",
   "metadata": {},
   "source": [
    "## Building complex expressions with special methods\n",
    "\n",
    "All special functions of PyMathML objects have been implemented; therefore,\n",
    "complex expressions can be built very naturally:"
   ]
  },
  {
   "cell_type": "code",
   "execution_count": 19,
   "metadata": {
    "collapsed": true
   },
   "outputs": [],
   "source": [
    "f, x = identifiers('f', 'x')\n",
    "\n",
    "expr = f(x[1], x[2], x[3])**2"
   ]
  },
  {
   "cell_type": "markdown",
   "metadata": {},
   "source": [
    "results in the following MathML code:"
   ]
  },
  {
   "cell_type": "code",
   "execution_count": 20,
   "metadata": {},
   "outputs": [
    {
     "name": "stdout",
     "output_type": "stream",
     "text": [
      "<msup><mrow><mi>f</mi><mo>⁡</mo><mfenced><msub><mi>x</mi><mn>1</mn></msub><msub><mi>x</mi><mn>2</mn></msub><msub><mi>x</mi><mn>3</mn></msub></mfenced></mrow><mn>2</mn></msup>\n"
     ]
    }
   ],
   "source": [
    "print(expr)"
   ]
  },
  {
   "cell_type": "markdown",
   "metadata": {},
   "source": [
    "which renders as ``f(x₁, x₂, x₃)²`` (you need to run the Jupyter notebook to see\n",
    "the output of the following cell correctly):"
   ]
  },
  {
   "cell_type": "code",
   "execution_count": 21,
   "metadata": {},
   "outputs": [
    {
     "data": {
      "text/html": [
       "<math display=\"block\" xmlns=\"http://www.w3.org/1998/Math/MathML\"><msup><mrow><mi>f</mi><mo>⁡</mo><mfenced><msub><mi>x</mi><mn>1</mn></msub><msub><mi>x</mi><mn>2</mn></msub><msub><mi>x</mi><mn>3</mn></msub></mfenced></mrow><mn>2</mn></msup></math>"
      ],
      "text/plain": [
       "Sup(Row(Identifier('f'), Operator('\\u2061'), Fenced(Sub(Identifier('x'), Number(1)), Sub(Identifier('x'), Number(2)), Sub(Identifier('x'), Number(3)))), Number(2))"
      ]
     },
     "execution_count": 21,
     "metadata": {},
     "output_type": "execute_result"
    }
   ],
   "source": [
    "expr"
   ]
  },
  {
   "cell_type": "markdown",
   "metadata": {},
   "source": [
    "#### Conversion table for magic methods\n",
    "\n",
    "In the table below, ``e``, ``e1`` and ``e2`` are PyMathML expressions, ``me``,\n",
    "``me1`` and ``me2`` are their translation to MathML.\n",
    "\n",
    "| PyMathML   | MathML                                                 |\n",
    "|------------|--------------------------------------------------------|\n",
    "| ``+e``     | ``<mrow><mo>+</mo>me</mrow>``                          |\n",
    "| ``-e``     | ``<mrow><mo>-</mo>me</mrow>``                          |\n",
    "| ``e1+e2``  | ``<mrow>me1<mo>+</mo>me2</mrow>``                      |\n",
    "| ``e1-e2``  | ``<mrow>me1<mo>-</mo>me2</mrow>``                      |\n",
    "| ``e1*e2``  | ``<mrow>me1<mo>&it;</mo>me2</mrow>``                   |\n",
    "| ``e1@e2``  | ``<mrow>me1<mo>⋅</mo>me2</mrow>``                      |\n",
    "| ``e1**e2`` | ``<msup>me1 me2</msup>``                               |\n",
    "| ``e1[e2]`` | ``<msub>me1 me2</msub>``                               |\n",
    "| ``e1(e2)`` | ``<mrow>me1<mo>&af;</mo><mfenced>e2</mfenced></mrow>`` |"
   ]
  },
  {
   "cell_type": "markdown",
   "metadata": {},
   "source": [
    "#### Caveat\n",
    "\n",
    "Expressions are *not* automatically parenthetized. For example, the following\n",
    "snippet"
   ]
  },
  {
   "cell_type": "code",
   "execution_count": 22,
   "metadata": {
    "collapsed": true
   },
   "outputs": [],
   "source": [
    "a, b = identifiers('a', 'b')\n",
    "expr = (a+b)**2"
   ]
  },
  {
   "cell_type": "markdown",
   "metadata": {},
   "source": [
    "results in the following MathML code"
   ]
  },
  {
   "cell_type": "code",
   "execution_count": 23,
   "metadata": {},
   "outputs": [
    {
     "name": "stdout",
     "output_type": "stream",
     "text": [
      "<msup><mrow><mi>a</mi><mo>+</mo><mi>b</mi></mrow><mn>2</mn></msup>\n"
     ]
    }
   ],
   "source": [
    "print(expr)"
   ]
  },
  {
   "cell_type": "markdown",
   "metadata": {},
   "source": [
    "which renders as ``a+b²``, not ``(a+b)²``. This is a limitation of this\n",
    "package, *not a bug*. Indeed, close inspection of the above MathML code reveals\n",
    "that the expression ``a+b`` is embedded in a ``mrow`` element, so that ``a+b``\n",
    "is indeed squared.\n",
    "\n",
    "Until automatic fencing is implemented\n",
    "(see [issue 1](https://github.com/sbrisard/pymathml/issues/1)),\n",
    "this is how the above expression should be defined"
   ]
  },
  {
   "cell_type": "code",
   "execution_count": 24,
   "metadata": {
    "collapsed": true
   },
   "outputs": [],
   "source": [
    "expr = Fenced(a+b)**2"
   ]
  },
  {
   "cell_type": "markdown",
   "metadata": {},
   "source": [
    "which renders as ``(a+b)²`` as expected:"
   ]
  },
  {
   "cell_type": "code",
   "execution_count": 25,
   "metadata": {},
   "outputs": [
    {
     "name": "stdout",
     "output_type": "stream",
     "text": [
      "<msup><mfenced><mrow><mi>a</mi><mo>+</mo><mi>b</mi></mrow></mfenced><mn>2</mn></msup>\n"
     ]
    }
   ],
   "source": [
    "print(expr)"
   ]
  },
  {
   "cell_type": "markdown",
   "metadata": {},
   "source": [
    "## Mathematical operations\n",
    "\n",
    "PyMathML defines classes that implement unary, binary and n-ary operations as\n",
    "compound MathML elements.\n",
    "\n",
    "### Unary operations\n",
    "\n",
    "Unary operations are derived from the ``UnaryOperation`` class. Examples are\n",
    "the ``Pos`` and ``Neg`` classes. The single operand is embedded in a ``mrow``\n",
    "element:"
   ]
  },
  {
   "cell_type": "code",
   "execution_count": 26,
   "metadata": {},
   "outputs": [
    {
     "name": "stdout",
     "output_type": "stream",
     "text": [
      "<mrow><mo>+</mo><mi>a</mi></mrow>\n",
      "<mrow><mo>-</mo><mi>a</mi></mrow>\n"
     ]
    }
   ],
   "source": [
    "a = Identifier('a')\n",
    "print('{}\\n{}'.format(Pos(a), Neg(a)))"
   ]
  },
  {
   "cell_type": "markdown",
   "metadata": {},
   "source": [
    "The above constructs are equivalent to the ``+a`` and ``-a``, respectively:"
   ]
  },
  {
   "cell_type": "code",
   "execution_count": 27,
   "metadata": {},
   "outputs": [
    {
     "name": "stdout",
     "output_type": "stream",
     "text": [
      "<mrow><mo>+</mo><mi>a</mi></mrow>\n",
      "<mrow><mo>-</mo><mi>a</mi></mrow>\n"
     ]
    }
   ],
   "source": [
    "print('{}\\n{}'.format(+a, -a))"
   ]
  },
  {
   "cell_type": "markdown",
   "metadata": {},
   "source": [
    "Note that the initializer also accepts attributes, which are passed to the\n",
    "``mrow`` element:"
   ]
  },
  {
   "cell_type": "code",
   "execution_count": 28,
   "metadata": {
    "scrolled": true
   },
   "outputs": [
    {
     "name": "stdout",
     "output_type": "stream",
     "text": [
      "<mrow dir=\"rtl\"><mo>-</mo><mi>a</mi></mrow>\n"
     ]
    }
   ],
   "source": [
    "print(Neg(a, dir='rtl'))"
   ]
  },
  {
   "cell_type": "markdown",
   "metadata": {},
   "source": [
    "New unary operations can be created with the ``unary_operation_type`` function,\n",
    "like so:"
   ]
  },
  {
   "cell_type": "code",
   "execution_count": 29,
   "metadata": {},
   "outputs": [
    {
     "name": "stdout",
     "output_type": "stream",
     "text": [
      "<mrow><mo>¬</mo><mi>a</mi></mrow>\n"
     ]
    }
   ],
   "source": [
    "Not = unary_operation_type('Not', '\\N{NOT SIGN}')\n",
    "print(Not(a))"
   ]
  },
  {
   "cell_type": "code",
   "execution_count": 30,
   "metadata": {},
   "outputs": [
    {
     "name": "stdout",
     "output_type": "stream",
     "text": [
      "PyMathML representation of the ¬ unary operation.\n",
      "\n",
      "Usage: Not(operand, **attributes)\n",
      "\n",
      "which produces the following MathML code:\n",
      "\n",
      "    <mrow>\n",
      "        <mo>¬</mo>\n",
      "        operand\n",
      "    </mrow>\n"
     ]
    }
   ],
   "source": [
    "print(inspect.getdoc(Not))"
   ]
  },
  {
   "cell_type": "markdown",
   "metadata": {},
   "source": [
    "### Binary operations\n",
    "\n",
    "Binary operations are derived from the ``BinaryOperation`` class. Currently\n",
    "implemented binary operations are listed below.\n",
    "\n",
    "| PyMathML       | Operator |\n",
    "|----------------|----------|\n",
    "| Dot            | ⋅        |\n",
    "| Equals         | =        |\n",
    "| InvisibleTimes | ⁢         |\n",
    "| Minus          | -        |\n",
    "| Plus           | +        |\n",
    "| Times          | ×        |\n"
   ]
  },
  {
   "cell_type": "markdown",
   "metadata": {},
   "source": [
    "The operands are passed to the initializer of the binary operation to be\n",
    "constructed. They are embedded in a ``mrow`` element."
   ]
  },
  {
   "cell_type": "code",
   "execution_count": 31,
   "metadata": {},
   "outputs": [
    {
     "name": "stdout",
     "output_type": "stream",
     "text": [
      "<mrow><mi>a</mi><mo>-</mo><mi>b</mi></mrow>\n"
     ]
    }
   ],
   "source": [
    "a, b = identifiers('a', 'b')\n",
    "print(Minus(a, b))"
   ]
  },
  {
   "cell_type": "markdown",
   "metadata": {},
   "source": [
    "which is equivalent to ``a-b``:"
   ]
  },
  {
   "cell_type": "code",
   "execution_count": 32,
   "metadata": {},
   "outputs": [
    {
     "name": "stdout",
     "output_type": "stream",
     "text": [
      "<mrow><mi>a</mi><mo>-</mo><mi>b</mi></mrow>\n"
     ]
    }
   ],
   "source": [
    "print(a-b)"
   ]
  },
  {
   "cell_type": "markdown",
   "metadata": {},
   "source": [
    "Note that the initializer also accepts attributes, which are passed to the\n",
    "``mrow`` element:"
   ]
  },
  {
   "cell_type": "code",
   "execution_count": 33,
   "metadata": {
    "scrolled": true
   },
   "outputs": [
    {
     "name": "stdout",
     "output_type": "stream",
     "text": [
      "<mrow dir=\"rtl\"><mi>a</mi><mo>-</mo><mi>b</mi></mrow>\n"
     ]
    }
   ],
   "source": [
    "print(Minus(a, b, dir='rtl'))"
   ]
  },
  {
   "cell_type": "markdown",
   "metadata": {},
   "source": [
    "Also, assuming associativity, more than two operands can be passed to the\n",
    "initializer:"
   ]
  },
  {
   "cell_type": "code",
   "execution_count": 34,
   "metadata": {},
   "outputs": [
    {
     "name": "stdout",
     "output_type": "stream",
     "text": [
      "<mrow><mi>a</mi><mo>-</mo><mi>b</mi><mo>-</mo><mi>c</mi></mrow>\n"
     ]
    }
   ],
   "source": [
    "c = Identifier('c')\n",
    "print(Minus(a, b, c))"
   ]
  },
  {
   "cell_type": "markdown",
   "metadata": {},
   "source": [
    "which is not strictly equivalent to ``a-b-c`` (the former being embedded in one\n",
    "single ``mrow`` element):"
   ]
  },
  {
   "cell_type": "code",
   "execution_count": 35,
   "metadata": {},
   "outputs": [
    {
     "name": "stdout",
     "output_type": "stream",
     "text": [
      "<mrow><mrow><mi>a</mi><mo>-</mo><mi>b</mi></mrow><mo>-</mo><mi>c</mi></mrow>\n"
     ]
    }
   ],
   "source": [
    "print(a-b-c)"
   ]
  },
  {
   "cell_type": "markdown",
   "metadata": {},
   "source": [
    "New binary operations can be created with the ``binary_operation_type``\n",
    "function, like so:"
   ]
  },
  {
   "cell_type": "code",
   "execution_count": 36,
   "metadata": {},
   "outputs": [
    {
     "name": "stdout",
     "output_type": "stream",
     "text": [
      "<mrow><mi>a</mi><mo>⊗</mo><mi>b</mi><mo>⊗</mo><mi>c</mi></mrow>\n"
     ]
    }
   ],
   "source": [
    "CircledTimes = binary_operation_type('CircledTimes', '\\N{CIRCLED TIMES}')\n",
    "print(CircledTimes(a, b, c))"
   ]
  },
  {
   "cell_type": "code",
   "execution_count": 37,
   "metadata": {},
   "outputs": [
    {
     "name": "stdout",
     "output_type": "stream",
     "text": [
      "PyMathML representation of the ⊗ binary operation.\n",
      "\n",
      "Usage: CircledTimes(*operands, **attributes)\n",
      "\n",
      "which produces the following MathML code (associativity is assumed):\n",
      "\n",
      "    <mrow>\n",
      "        operands[0]\n",
      "        <mo>⊗</mo>\n",
      "        operands[1]\n",
      "        <mo>⊗</mo>\n",
      "        operands[2]\n",
      "        ...\n",
      "    </mrow>\n"
     ]
    }
   ],
   "source": [
    "print(inspect.getdoc(CircledTimes))"
   ]
  },
  {
   "cell_type": "markdown",
   "metadata": {},
   "source": [
    "### N-ary operations\n",
    "\n",
    "N-ary operations are derived from the ``NaryOperation`` class. Currently\n",
    "implemented N-ary operations are listed below.\n",
    "\n",
    "| PyMathML       | Operator |\n",
    "|----------------|----------|\n",
    "| Product        | ∏        |\n",
    "| Sum            | ∑        |"
   ]
  },
  {
   "cell_type": "markdown",
   "metadata": {},
   "source": [
    "Three expressions are passed to the initializer of the n-ary operation: the\n",
    "operand, the ``start`` expression and the ``end`` expression:"
   ]
  },
  {
   "cell_type": "code",
   "execution_count": 38,
   "metadata": {},
   "outputs": [
    {
     "name": "stdout",
     "output_type": "stream",
     "text": [
      "<mrow><munderover><mo>∑</mo><mrow><mi>i</mi><mo>=</mo><mn>0</mn></mrow><mi>n</mi></munderover><msub><mi>a</mi><mi>i</mi></msub></mrow>\n"
     ]
    }
   ],
   "source": [
    "a, i, n = identifiers('a', 'i', 'n')\n",
    "operand = a[i]\n",
    "start = Equals(i, 0)\n",
    "end = n\n",
    "expr = Sum(operand, start, end)\n",
    "print(expr)"
   ]
  },
  {
   "cell_type": "markdown",
   "metadata": {},
   "source": [
    "which renders as (only works in the Jupyter notebook)"
   ]
  },
  {
   "cell_type": "code",
   "execution_count": 39,
   "metadata": {},
   "outputs": [
    {
     "data": {
      "text/html": [
       "<math display=\"block\" xmlns=\"http://www.w3.org/1998/Math/MathML\"><mrow><munderover><mo>∑</mo><mrow><mi>i</mi><mo>=</mo><mn>0</mn></mrow><mi>n</mi></munderover><msub><mi>a</mi><mi>i</mi></msub></mrow></math>"
      ],
      "text/plain": [
       "Sum(Sub(Identifier('a'), Identifier('i')), Equals(Identifier('i'), Number(0)), Identifier('n'))"
      ]
     },
     "execution_count": 39,
     "metadata": {},
     "output_type": "execute_result"
    }
   ],
   "source": [
    "expr"
   ]
  },
  {
   "cell_type": "markdown",
   "metadata": {},
   "source": [
    "Note that, if empty, ``start`` and ``end`` must explicitly be set to ``None``"
   ]
  },
  {
   "cell_type": "code",
   "execution_count": 40,
   "metadata": {},
   "outputs": [
    {
     "name": "stdout",
     "output_type": "stream",
     "text": [
      "<mrow><munder><mo>∑</mo><mrow><mi>i</mi><mo>=</mo><mn>0</mn></mrow></munder><msub><mi>a</mi><mi>i</mi></msub></mrow>\n"
     ]
    }
   ],
   "source": [
    "print(Sum(operand, start, None))"
   ]
  },
  {
   "cell_type": "code",
   "execution_count": 41,
   "metadata": {},
   "outputs": [
    {
     "name": "stdout",
     "output_type": "stream",
     "text": [
      "<mrow><mover><mo>∑</mo><mi>n</mi></mover><msub><mi>a</mi><mi>i</mi></msub></mrow>\n"
     ]
    }
   ],
   "source": [
    "print(Sum(operand, None, end))"
   ]
  },
  {
   "cell_type": "markdown",
   "metadata": {},
   "source": [
    "Also note that the initializer accepts attributes, which are passed to the\n",
    "``mrow`` element:"
   ]
  },
  {
   "cell_type": "code",
   "execution_count": 42,
   "metadata": {
    "scrolled": true
   },
   "outputs": [
    {
     "name": "stdout",
     "output_type": "stream",
     "text": [
      "<mrow dir=\"rtl\"><mo>∑</mo><msub><mi>a</mi><mi>i</mi></msub></mrow>\n"
     ]
    }
   ],
   "source": [
    "print(Sum(operand, None, None, dir='rtl'))"
   ]
  },
  {
   "cell_type": "markdown",
   "metadata": {},
   "source": [
    "New n-ary operations can be created with the ``nary_operation_type`` function,\n",
    "like so:"
   ]
  },
  {
   "cell_type": "code",
   "execution_count": 43,
   "metadata": {},
   "outputs": [
    {
     "name": "stdout",
     "output_type": "stream",
     "text": [
      "<mrow><mo>⋃</mo><msub><mi>a</mi><mi>i</mi></msub></mrow>\n"
     ]
    }
   ],
   "source": [
    "Union = nary_operation_type('Union', '\\N{N-ARY UNION}')\n",
    "print(Union(operand, None, None))"
   ]
  },
  {
   "cell_type": "code",
   "execution_count": 44,
   "metadata": {},
   "outputs": [
    {
     "name": "stdout",
     "output_type": "stream",
     "text": [
      "PyMathML representation of the ⋃ n-ary operation.\n",
      "\n",
      "Usage: Union(operand, start, end, **attributes)\n",
      "\n",
      "If both start and end are not None, the following MathML code is\n",
      "produced:\n",
      "\n",
      "    <mrow>\n",
      "        <munderover>\n",
      "            <mo>⋃</mo>\n",
      "            start\n",
      "            end\n",
      "        </munderover>\n",
      "        operand\n",
      "    </mrow>\n",
      "\n",
      "If only start is not None, the following MathML code is produced:\n",
      "\n",
      "    <mrow>\n",
      "        <munder>\n",
      "            <mo>⋃</mo>\n",
      "            start\n",
      "        </munder>\n",
      "        operand\n",
      "    </mrow>\n",
      "\n",
      "Finally, if only end is not None, the following MathML code is\n",
      "produced:\n",
      "\n",
      "    <mrow>\n",
      "        <mover>\n",
      "            <mo>⋃</mo>\n",
      "            end\n",
      "        </mover>\n",
      "        operand\n",
      "    </mrow>\n"
     ]
    }
   ],
   "source": [
    "print(inspect.getdoc(Union))"
   ]
  },
  {
   "cell_type": "markdown",
   "metadata": {},
   "source": [
    "## Convenience functions\n",
    "\n",
    "Convenience functions can be found in the ``pymathml.utils``. See docstrings\n",
    "for more details."
   ]
  },
  {
   "cell_type": "code",
   "execution_count": 45,
   "metadata": {},
   "outputs": [
    {
     "name": "stdout",
     "output_type": "stream",
     "text": [
      "Help on module pymathml.utils in pymathml:\n",
      "\n",
      "NAME\n",
      "    pymathml.utils - A collection of functions to facilitate creation of expressions.\n",
      "\n",
      "FUNCTIONS\n",
      "    identifiers(*names, **attributes)\n",
      "        Return instances of Identifier with specified names.\n",
      "        \n",
      "        The **attributes are passed to the initializer of all returned\n",
      "        instances of Identifier.\n",
      "    \n",
      "    table(cells, **attributes)\n",
      "        Create a Table.\n",
      "        \n",
      "        The cells of the returned table are specified as an iterable of\n",
      "        iterables. The **attributes are passed to the initializer of the\n",
      "        Table object (attributes cannot be set for the nested TableRow and\n",
      "        TableEntry objects)\n",
      "    \n",
      "    underbrace(expr, underscript)\n",
      "        Create an underbraced expression.\n",
      "        \n",
      "        The LaTeX equivalent is:\n",
      "        \n",
      "            \\underbrace{expr}_{underscript}\n",
      "\n",
      "FILE\n",
      "    c:\\users\\sbrisard\\documents\\professionnels\\projets\\pymathml\\pymathml\\utils.py\n",
      "\n",
      "\n"
     ]
    }
   ],
   "source": [
    "import pymathml.utils\n",
    "help(pymathml.utils)"
   ]
  }
 ],
 "metadata": {
  "kernelspec": {
   "display_name": "Python 3",
   "language": "python",
   "name": "python3"
  },
  "language_info": {
   "codemirror_mode": {
    "name": "ipython",
    "version": 3
   },
   "file_extension": ".py",
   "mimetype": "text/x-python",
   "name": "python",
   "nbconvert_exporter": "python",
   "pygments_lexer": "ipython3",
   "version": "3.6.2"
  }
 },
 "nbformat": 4,
 "nbformat_minor": 2
}
