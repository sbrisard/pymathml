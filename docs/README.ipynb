{
 "cells": [
  {
   "cell_type": "markdown",
   "metadata": {},
   "source": [
    "# PyMathML\n",
    "\n",
    "PyMathML is a Python package to create MathML expressions programatically.\n",
    "\n",
    "MathML is extremely verbose; with PyMathML, concise, pythonic expressions are\n",
    "converted to valid, well-formed MathML code. For example, the following snippet"
   ]
  },
  {
   "cell_type": "code",
   "execution_count": 1,
   "metadata": {
    "collapsed": true
   },
   "outputs": [],
   "source": [
    "import inspect\n",
    "\n",
    "from pymathml import *\n",
    "from pymathml.utils import *"
   ]
  },
  {
   "cell_type": "code",
   "execution_count": 2,
   "metadata": {},
   "outputs": [],
   "source": [
    "a, b = identifiers('a', 'b')\n",
    "expr = a**2+2*a*b+b**2"
   ]
  },
  {
   "cell_type": "markdown",
   "metadata": {},
   "source": [
    "defines the mathematical expression ``a²+2ab+b²``. PyMathML then produces the following MathML code"
   ]
  },
  {
   "cell_type": "code",
   "execution_count": 3,
   "metadata": {},
   "outputs": [
    {
     "name": "stdout",
     "output_type": "stream",
     "text": [
      "<mrow><mrow><msup><mi>a</mi><mn>2</mn></msup><mo>+</mo><mrow><mrow><mn>2</mn><mo>⁢</mo><mi>a</mi></mrow><mo>⁢</mo><mi>b</mi></mrow></mrow><mo>+</mo><msup><mi>b</mi><mn>2</mn></msup></mrow>\n"
     ]
    }
   ],
   "source": [
    "print(expr)"
   ]
  },
  {
   "cell_type": "markdown",
   "metadata": {},
   "source": [
    "PyMathML objects can be displayed in the Jupyter Notebook like so"
   ]
  },
  {
   "cell_type": "code",
   "execution_count": 4,
   "metadata": {},
   "outputs": [
    {
     "data": {
      "text/html": [
       "<math display=\"block\" xmlns=\"http://www.w3.org/1998/Math/MathML\"><mrow><mrow><msup><mi>a</mi><mn>2</mn></msup><mo>+</mo><mrow><mrow><mn>2</mn><mo>⁢</mo><mi>a</mi></mrow><mo>⁢</mo><mi>b</mi></mrow></mrow><mo>+</mo><msup><mi>b</mi><mn>2</mn></msup></mrow></math>"
      ],
      "text/plain": [
       "Plus(Plus(Sup(Identifier('a'), Number(2)), Times(Times(Number(2), Identifier('a')), Identifier('b'))), Sup(Identifier('b'), Number(2)))"
      ]
     },
     "execution_count": 4,
     "metadata": {},
     "output_type": "execute_result"
    }
   ],
   "source": [
    "expr"
   ]
  },
  {
   "cell_type": "markdown",
   "metadata": {},
   "source": [
    "## Tutorial\n",
    "\n",
    "The present version of PyMathML is restricted to *Presentation MathML* (see\n",
    "MathML specifications, [chapter 3](https://www.w3.org/TR/MathML3/chapter3.html)).\n",
    "All MathML elements are defined as PyMathML objects.\n",
    "\n",
    "### Creating token elements\n",
    "\n",
    "Token elements are MathML elements that have text, but no children (see MathML\n",
    "specifications,\n",
    "[section 3.1.9.1](https://www.w3.org/TR/MathML3/chapter3.html#id.3.1.9.1)).\n",
    "Token elements all derive from the ``Token`` class (see conversion table below).\n",
    "\n",
    "| MathML     | PyMathML          |\n",
    "|------------|------------------ |\n",
    "| ``mi``     | ``Identifier``    |\n",
    "| ``mn``     | ``Number``        |\n",
    "| ``mo``     | ``Operator``      |\n",
    "| ``mtext``  | ``Text``          |\n",
    "| ``mspace`` | *not implemented* |\n",
    "| ``ms``     | *not implemented* |\n",
    "\n",
    "Token elements are instantiated by passing to the initializer the text as a non\n",
    "keyword argument  and the attributes as keyword arguments. For example"
   ]
  },
  {
   "cell_type": "code",
   "execution_count": 5,
   "metadata": {},
   "outputs": [
    {
     "name": "stdout",
     "output_type": "stream",
     "text": [
      "<mi mathvariant=\"bold\">x</mi>\n"
     ]
    }
   ],
   "source": [
    "x = Identifier('x', mathvariant='bold')\n",
    "print(x)"
   ]
  },
  {
   "cell_type": "markdown",
   "metadata": {},
   "source": [
    "Note that any object can be passed as the \"text\" of the token element, provided\n",
    "that it can be converted to a string.\n",
    "\n",
    "### Creating non-token elements\n",
    "\n",
    "Non-token elements are\n",
    "\n",
    "  - general layout schemata (see MathML specifications,\n",
    "  [section 3.1.9.2](https://www.w3.org/TR/MathML3/chapter3.html#id.3.1.9.2)),\n",
    "  - script and limit schemata (see MathML specifications,\n",
    "  [section 3.1.9.3](https://www.w3.org/TR/MathML3/chapter3.html#id.3.1.9.3)),\n",
    "  - tables and matrices (see MathML specifications,\n",
    "  [section 3.1.9.4](https://www.w3.org/TR/MathML3/chapter3.html#id.3.1.9.4)).\n",
    "\n",
    "They all derive from the ``Expression`` class, and are instantiated by passing\n",
    "to the initializer the children expressions as non-keyword arguments, and the\n",
    "attributes as keyword arguments. For example"
   ]
  },
  {
   "cell_type": "code",
   "execution_count": 6,
   "metadata": {},
   "outputs": [
    {
     "name": "stdout",
     "output_type": "stream",
     "text": [
      "<msup superscriptshift=\"0.5em\"><mi>a</mi><mn>2</mn></msup>\n"
     ]
    }
   ],
   "source": [
    "expr = Sup('a', 2, superscriptshift='0.5em')\n",
    "print(expr)"
   ]
  },
  {
   "cell_type": "markdown",
   "metadata": {},
   "source": [
    "(note that strings and numbers are automatically converted to ``mi`` and ``mn``\n",
    "children elements, respectively). When relevant, the docstring of the derived\n",
    "``Element`` lists non-keyword arguments. For example"
   ]
  },
  {
   "cell_type": "markdown",
   "metadata": {},
   "source": [
    "#### Conversion table for general layout schemata\n",
    "\n",
    "| MathML       | PyMathML          |\n",
    "|--------------|-------------------|\n",
    "| ``mrow``     | ``Row``           |\n",
    "| ``mfrac``    | ``Frac``          |\n",
    "| ``msqrt``    | ``Sqrt``          |\n",
    "| ``mroot``    | ``Root``          |\n",
    "| ``mstyle``   | ``Style``         |\n",
    "| ``merror``   | *not implemented* |\n",
    "| ``mpadded``  | *not implemented* |\n",
    "| ``mphantom`` | *not implemented* |\n",
    "| ``mfenced``  | ``Fenced``        |\n",
    "| ``menclose`` | *not implemented* |\n",
    "\n",
    "#### Conversion table for script and limit schemata\n",
    "\n",
    "| MathML            | PyMathML          |\n",
    "|-------------------|-------------------|\n",
    "| ``msub``          | ``Sub``           |\n",
    "| ``msup``          | ``Sup``           |\n",
    "| ``msubsup``       | ``SubSup``        |\n",
    "| ``munder``        | ``Under``         |\n",
    "| ``mover``         | ``Over``          |\n",
    "| ``munderover``    | ``UnderOver``     |\n",
    "| ``mmultiscripts`` | *not implemented* |\n",
    "\n",
    "#### Conversion table for tables and matrices\n",
    "\n",
    "| MathML          | PyMathML          |\n",
    "|-----------------|-------------------|\n",
    "| ``mtable``      | ``Table``         |\n",
    "| ``mlabeledtr``  | *not implemented* |\n",
    "| ``mtr``         | ``TableRow``      |\n",
    "| ``mtd``         | ``TableEntry``    |\n",
    "| ``maligngroup`` | *not implemented* |\n",
    "| ``malignmark``  | *not implemented* |"
   ]
  },
  {
   "cell_type": "markdown",
   "metadata": {},
   "source": [
    "### Building complex expressions with magic functions\n",
    "\n",
    "All magic functions of PyMathML objects have been implemented; therefore,\n",
    "complex expressions can be built very naturally. For example"
   ]
  },
  {
   "cell_type": "code",
   "execution_count": 7,
   "metadata": {},
   "outputs": [
    {
     "data": {
      "text/html": [
       "<math display=\"block\" xmlns=\"http://www.w3.org/1998/Math/MathML\"><msup><mrow><mi>f</mi><mo>⁡</mo><mfenced><msub><mi>x</mi><mn>1</mn></msub><msub><mi>x</mi><mn>2</mn></msub><msub><mi>x</mi><mn>3</mn></msub></mfenced></mrow><mn>2</mn></msup></math>"
      ],
      "text/plain": [
       "Sup(Row(Identifier('f'), Operator('\\u2061'), Fenced(Sub(Identifier('x'), Number(1)), Sub(Identifier('x'), Number(2)), Sub(Identifier('x'), Number(3)))), Number(2))"
      ]
     },
     "execution_count": 7,
     "metadata": {},
     "output_type": "execute_result"
    }
   ],
   "source": [
    "f, x = identifiers('f', 'x')\n",
    "\n",
    "expr = f(x[1], x[2], x[3])**2\n",
    "expr"
   ]
  },
  {
   "cell_type": "markdown",
   "metadata": {},
   "source": [
    "which results in the following MathML code"
   ]
  },
  {
   "cell_type": "code",
   "execution_count": 8,
   "metadata": {},
   "outputs": [
    {
     "name": "stdout",
     "output_type": "stream",
     "text": [
      "<msup><mrow><mi>f</mi><mo>⁡</mo><mfenced><msub><mi>x</mi><mn>1</mn></msub><msub><mi>x</mi><mn>2</mn></msub><msub><mi>x</mi><mn>3</mn></msub></mfenced></mrow><mn>2</mn></msup>\n"
     ]
    }
   ],
   "source": [
    "print(expr)"
   ]
  },
  {
   "cell_type": "markdown",
   "metadata": {},
   "source": [
    "#### Conversion table for magic methods\n",
    "\n",
    "In the table below, ``e``, ``e1`` and ``e2`` are PyMathML expressions, ``me``,\n",
    "``me1`` and ``me2`` are their translation to MathML.\n",
    "\n",
    "| PyMathML   | MathML                                                 |\n",
    "|------------|--------------------------------------------------------|\n",
    "| ``+e``     | ``<mrow><mo>+</mo>me</mrow>``                          |\n",
    "| ``-e``     | ``<mrow><mo>-</mo>me</mrow>``                          |\n",
    "| ``e1+e2``  | ``<mrow>me1<mo>+</mo>me2</mrow>``                      |\n",
    "| ``e1-e2``  | ``<mrow>me1<mo>-</mo>me2</mrow>``                      |\n",
    "| ``e1*e2``  | ``<mrow>me1<mo>&it;</mo>me2</mrow>``                   |\n",
    "| ``e1**e2`` | ``<msup>me1 me2</msup>``                               |\n",
    "| ``e1[e2]`` | ``<msub>me1 me2</msub>``                               |\n",
    "| ``e1(e2)`` | ``<mrow>me1<mo>&af;</mo><mfenced>e2</mfenced></mrow>`` |"
   ]
  },
  {
   "cell_type": "markdown",
   "metadata": {},
   "source": [
    "#### Caveat\n",
    "\n",
    "Expressions are *not* automatically parenthetized. For example, the following\n",
    "snippet"
   ]
  },
  {
   "cell_type": "code",
   "execution_count": 9,
   "metadata": {
    "collapsed": true
   },
   "outputs": [],
   "source": [
    "a, b = identifiers('a', 'b')\n",
    "expr = (a+b)**2"
   ]
  },
  {
   "cell_type": "markdown",
   "metadata": {},
   "source": [
    "results in the following MathML code"
   ]
  },
  {
   "cell_type": "code",
   "execution_count": 10,
   "metadata": {},
   "outputs": [
    {
     "name": "stdout",
     "output_type": "stream",
     "text": [
      "<msup><mrow><mi>a</mi><mo>+</mo><mi>b</mi></mrow><mn>2</mn></msup>\n"
     ]
    }
   ],
   "source": [
    "print(expr)"
   ]
  },
  {
   "cell_type": "markdown",
   "metadata": {},
   "source": [
    "This is a limitation of this package, *not a bug*. Indeed, close inspection of\n",
    "the above MathML code reveals that the expression ``a+b`` is enclosed in a\n",
    "``mrow`` element, so that ``a+b`` is indeed squared. However, this expression\n",
    "is rendered as follows"
   ]
  },
  {
   "cell_type": "code",
   "execution_count": 11,
   "metadata": {},
   "outputs": [
    {
     "data": {
      "text/html": [
       "<math display=\"block\" xmlns=\"http://www.w3.org/1998/Math/MathML\"><msup><mrow><mi>a</mi><mo>+</mo><mi>b</mi></mrow><mn>2</mn></msup></math>"
      ],
      "text/plain": [
       "Sup(Plus(Identifier('a'), Identifier('b')), Number(2))"
      ]
     },
     "execution_count": 11,
     "metadata": {},
     "output_type": "execute_result"
    }
   ],
   "source": [
    "expr"
   ]
  },
  {
   "cell_type": "markdown",
   "metadata": {},
   "source": [
    "which is not what is expected. Until automatic fencing is implemented (see\n",
    "[issue 1](https://github.com/sbrisard/pymathml/issues/1)), this is how the\n",
    "above expression should be defined"
   ]
  },
  {
   "cell_type": "code",
   "execution_count": 12,
   "metadata": {},
   "outputs": [
    {
     "data": {
      "text/html": [
       "<math display=\"block\" xmlns=\"http://www.w3.org/1998/Math/MathML\"><msup><mfenced><mrow><mi>a</mi><mo>+</mo><mi>b</mi></mrow></mfenced><mn>2</mn></msup></math>"
      ],
      "text/plain": [
       "Sup(Fenced(Plus(Identifier('a'), Identifier('b'))), Number(2))"
      ]
     },
     "execution_count": 12,
     "metadata": {},
     "output_type": "execute_result"
    }
   ],
   "source": [
    "expr = Fenced(a+b)**2\n",
    "expr"
   ]
  },
  {
   "cell_type": "markdown",
   "metadata": {},
   "source": [
    "### Converting PyMathML expressions to MathML"
   ]
  },
  {
   "cell_type": "markdown",
   "metadata": {},
   "source": [
    "Let us define a PyMathML expression"
   ]
  },
  {
   "cell_type": "code",
   "execution_count": 13,
   "metadata": {
    "collapsed": true
   },
   "outputs": [],
   "source": [
    "a, b, c, x = identifiers('a', 'b', 'c', 'x')\n",
    "expr = a*x**2+b*x+c"
   ]
  },
  {
   "cell_type": "markdown",
   "metadata": {},
   "source": [
    "Then ``str(expr)`` returns its MathML representation"
   ]
  },
  {
   "cell_type": "code",
   "execution_count": 14,
   "metadata": {},
   "outputs": [
    {
     "data": {
      "text/plain": [
       "'<mrow><mrow><mrow><mi>a</mi><mo>\\u2062</mo><msup><mi>x</mi><mn>2</mn></msup></mrow><mo>+</mo><mrow><mi>b</mi><mo>\\u2062</mo><mi>x</mi></mrow></mrow><mo>+</mo><mi>c</mi></mrow>'"
      ]
     },
     "execution_count": 14,
     "metadata": {},
     "output_type": "execute_result"
    }
   ],
   "source": [
    "str(expr)"
   ]
  },
  {
   "cell_type": "markdown",
   "metadata": {},
   "source": [
    "PyMathML expressions can be displayed (using MathJax) in Jupyter notebooks"
   ]
  },
  {
   "cell_type": "code",
   "execution_count": 15,
   "metadata": {},
   "outputs": [
    {
     "data": {
      "text/html": [
       "<math display=\"block\" xmlns=\"http://www.w3.org/1998/Math/MathML\"><mrow><mrow><mrow><mi>a</mi><mo>⁢</mo><msup><mi>x</mi><mn>2</mn></msup></mrow><mo>+</mo><mrow><mi>b</mi><mo>⁢</mo><mi>x</mi></mrow></mrow><mo>+</mo><mi>c</mi></mrow></math>"
      ],
      "text/plain": [
       "Plus(Plus(Times(Identifier('a'), Sup(Identifier('x'), Number(2))), Times(Identifier('b'), Identifier('x'))), Identifier('c'))"
      ]
     },
     "execution_count": 15,
     "metadata": {},
     "output_type": "execute_result"
    }
   ],
   "source": [
    "expr"
   ]
  },
  {
   "cell_type": "markdown",
   "metadata": {},
   "source": [
    "``expr.tomathml()`` returns the MathML representation of ``expr`` as an\n",
    "``Element`` from the ``xml.etree.ElementTree`` module in the\n",
    "[standard library](https://docs.python.org/3/library/xml.etree.elementtree.html#module-xml.etree.ElementTree)"
   ]
  },
  {
   "cell_type": "code",
   "execution_count": 16,
   "metadata": {},
   "outputs": [
    {
     "data": {
      "text/plain": [
       "xml.etree.ElementTree.Element"
      ]
     },
     "execution_count": 16,
     "metadata": {},
     "output_type": "execute_result"
    }
   ],
   "source": [
    "mml = expr.tomathml()\n",
    "type(mml)"
   ]
  },
  {
   "cell_type": "markdown",
   "metadata": {},
   "source": [
    "which can then be converted to XML as follows"
   ]
  },
  {
   "cell_type": "code",
   "execution_count": 17,
   "metadata": {},
   "outputs": [
    {
     "name": "stdout",
     "output_type": "stream",
     "text": [
      "<mrow><mrow><mrow><mi>a</mi><mo>⁢</mo><msup><mi>x</mi><mn>2</mn></msup></mrow><mo>+</mo><mrow><mi>b</mi><mo>⁢</mo><mi>x</mi></mrow></mrow><mo>+</mo><mi>c</mi></mrow>\n"
     ]
    }
   ],
   "source": [
    "import xml.etree.ElementTree as ET\n",
    "\n",
    "print(ET.tostring(mml, encoding='unicode'))"
   ]
  },
  {
   "cell_type": "markdown",
   "metadata": {},
   "source": [
    "The function ``tomathml`` promotes its argument to a PyMathML expression, and\n",
    "calls the ``tomathml()`` method\n",
    "embeds the expression in a ``math`` element. The optional argu"
   ]
  },
  {
   "cell_type": "code",
   "execution_count": 18,
   "metadata": {},
   "outputs": [
    {
     "name": "stdout",
     "output_type": "stream",
     "text": [
      "<mi>a</mi>\n"
     ]
    }
   ],
   "source": [
    "mml = tomathml('a')\n",
    "print(ET.tostring(mml, encoding=('unicode')))"
   ]
  },
  {
   "cell_type": "markdown",
   "metadata": {},
   "source": [
    "If the optional argument ``display`` is specified, the expression is enclosed\n",
    "in a ``math`` element, with the specified ``display`` attribute"
   ]
  },
  {
   "cell_type": "code",
   "execution_count": 19,
   "metadata": {},
   "outputs": [
    {
     "name": "stdout",
     "output_type": "stream",
     "text": [
      "<math display=\"block\" xmlns=\"http://www.w3.org/1998/Math/MathML\"><mi>a</mi></math>\n"
     ]
    }
   ],
   "source": [
    "mml = tomathml('a', display='block')\n",
    "print(ET.tostring(mml, encoding=('unicode')))"
   ]
  },
  {
   "cell_type": "code",
   "execution_count": 20,
   "metadata": {},
   "outputs": [
    {
     "name": "stdout",
     "output_type": "stream",
     "text": [
      "<math display=\"inline\" xmlns=\"http://www.w3.org/1998/Math/MathML\"><mi>a</mi></math>\n"
     ]
    }
   ],
   "source": [
    "mml = tomathml('a', display='inline')\n",
    "print(ET.tostring(mml, encoding=('unicode')))"
   ]
  }
 ],
 "metadata": {
  "kernelspec": {
   "display_name": "Python 3",
   "language": "python",
   "name": "python3"
  },
  "language_info": {
   "codemirror_mode": {
    "name": "ipython",
    "version": 3
   },
   "file_extension": ".py",
   "mimetype": "text/x-python",
   "name": "python",
   "nbconvert_exporter": "python",
   "pygments_lexer": "ipython3",
   "version": "3.6.2"
  }
 },
 "nbformat": 4,
 "nbformat_minor": 2
}
