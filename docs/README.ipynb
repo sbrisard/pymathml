{
 "cells": [
  {
   "cell_type": "markdown",
   "metadata": {},
   "source": [
    "# PyMathML\n",
    "\n",
    "PyMathML is a Python package to create MathML expressions programatically.\n",
    "\n",
    "MathML is extremely verbose; with PyMathML, concise, pythonic expressions are\n",
    "converted to valid, well-formed MathML code. For example, the following snippet"
   ]
  },
  {
   "cell_type": "code",
   "execution_count": 1,
   "metadata": {
    "collapsed": true
   },
   "outputs": [],
   "source": [
    "import inspect\n",
    "import xml.etree.ElementTree as ET\n",
    "\n",
    "import pymathml.utils\n",
    "\n",
    "from pymathml import *"
   ]
  },
  {
   "cell_type": "code",
   "execution_count": 2,
   "metadata": {
    "collapsed": true
   },
   "outputs": [],
   "source": [
    "a = Identifier('a')\n",
    "b = Identifier('b')\n",
    "expr = a**2+2*a*b+b**2"
   ]
  },
  {
   "cell_type": "markdown",
   "metadata": {},
   "source": [
    "defines the mathematical expression ``a²+2ab+b²``. PyMathML then produces the following MathML code"
   ]
  },
  {
   "cell_type": "code",
   "execution_count": 3,
   "metadata": {},
   "outputs": [
    {
     "name": "stdout",
     "output_type": "stream",
     "text": [
      "<mrow><mrow><msup><mi>a</mi><mn>2</mn></msup><mo>+</mo><mrow><mrow><mn>2</mn><mo>⁢</mo><mi>a</mi></mrow><mo>⁢</mo><mi>b</mi></mrow></mrow><mo>+</mo><msup><mi>b</mi><mn>2</mn></msup></mrow>\n"
     ]
    }
   ],
   "source": [
    "print(expr)"
   ]
  },
  {
   "cell_type": "markdown",
   "metadata": {},
   "source": [
    "## Tutorial\n",
    "\n",
    "The present version of PyMathML is restricted to *Presentation MathML* (see\n",
    "MathML specifications, [chapter 3](https://www.w3.org/TR/MathML3/chapter3.html)).\n",
    "All MathML elements are defined as PyMathML objects.\n",
    "\n",
    "### Creating token elements\n",
    "\n",
    "Token elements are MathML elements that have text, but no children (see MathML\n",
    "specifications,\n",
    "[section 3.1.9.1](https://www.w3.org/TR/MathML3/chapter3.html#id.3.1.9.1)).\n",
    "Token elements all derive from the ``Token`` class (see conversion table below).\n",
    "\n",
    "| MathML     | PyMathML          |\n",
    "|------------|------------------ |\n",
    "| ``mi``     | ``Identifier``    |\n",
    "| ``mn``     | ``Number``        |\n",
    "| ``mo``     | ``Operator``      |\n",
    "| ``mtext``  | ``Text``          |\n",
    "| ``mspace`` | *not implemented* |\n",
    "| ``ms``     | *not implemented* |\n",
    "\n",
    "Token elements are instantiated by passing to the initializer the text as a non\n",
    "keyword argument  and the attributes as keyword arguments. For example"
   ]
  },
  {
   "cell_type": "code",
   "execution_count": 4,
   "metadata": {},
   "outputs": [
    {
     "name": "stdout",
     "output_type": "stream",
     "text": [
      "<mi mathvariant=\"bold\">x</mi>\n"
     ]
    }
   ],
   "source": [
    "x = Identifier('x', mathvariant='bold')\n",
    "print(x)"
   ]
  },
  {
   "cell_type": "markdown",
   "metadata": {},
   "source": [
    "Note that any object can be passed as the \"text\" of the token element, provided\n",
    "that it can be converted to a string.\n",
    "\n",
    "### Creating non-token elements\n",
    "\n",
    "Non-token elements are\n",
    "\n",
    "  - general layout schemata (see MathML specifications,\n",
    "  [section 3.1.9.2](https://www.w3.org/TR/MathML3/chapter3.html#id.3.1.9.2)),\n",
    "  - script and limit schemata (see MathML specifications,\n",
    "  [section 3.1.9.3](https://www.w3.org/TR/MathML3/chapter3.html#id.3.1.9.3)),\n",
    "  - tables and matrices (see MathML specifications,\n",
    "  [section 3.1.9.4](https://www.w3.org/TR/MathML3/chapter3.html#id.3.1.9.4)).\n",
    "\n",
    "They all derive from the ``Expression`` class, and are instantiated by passing\n",
    "to the initializer the children expressions as non-keyword arguments, and the\n",
    "attributes as keyword arguments. For example"
   ]
  },
  {
   "cell_type": "code",
   "execution_count": 5,
   "metadata": {},
   "outputs": [
    {
     "name": "stdout",
     "output_type": "stream",
     "text": [
      "<msup superscriptshift=\"0.5em\"><mi>a</mi><mn>2</mn></msup>\n"
     ]
    }
   ],
   "source": [
    "expr = Sup('a', 2, superscriptshift='0.5em')\n",
    "print(expr)"
   ]
  },
  {
   "cell_type": "markdown",
   "metadata": {},
   "source": [
    "(note that strings and numbers are automatically converted to ``mi`` and ``mn``\n",
    "children elements, respectively). When relevant, the docstring of the derived\n",
    "``Element`` lists non-keyword arguments. For example"
   ]
  },
  {
   "cell_type": "markdown",
   "metadata": {},
   "source": [
    "#### Conversion table for general layout schemata\n",
    "\n",
    "| MathML       | PyMathML          |\n",
    "|--------------|-------------------|\n",
    "| ``mrow``     | ``Row``           |\n",
    "| ``mfrac``    | ``Frac``          |\n",
    "| ``msqrt``    | ``Sqrt``          |\n",
    "| ``mroot``    | ``Root``          |\n",
    "| ``mstyle``   | ``Style``         |\n",
    "| ``merror``   | *not implemented* |\n",
    "| ``mpadded``  | *not implemented* |\n",
    "| ``mphantom`` | *not implemented* |\n",
    "| ``mfenced``  | ``Fenced``        |\n",
    "| ``menclose`` | *not implemented* |\n",
    "\n",
    "#### Conversion table for script and limit schemata\n",
    "\n",
    "| MathML            | PyMathML          |\n",
    "|-------------------|-------------------|\n",
    "| ``msub``          | ``Sub``           |\n",
    "| ``msup``          | ``Sup``           |\n",
    "| ``msubsup``       | ``SubSup``        |\n",
    "| ``munder``        | ``Under``         |\n",
    "| ``mover``         | ``Over``          |\n",
    "| ``munderover``    | ``UnderOver``     |\n",
    "| ``mmultiscripts`` | *not implemented* |\n",
    "\n",
    "#### Conversion table for tables and matrices\n",
    "\n",
    "| MathML          | PyMathML          |\n",
    "|-----------------|-------------------|\n",
    "| ``mtable``      | ``Table``         |\n",
    "| ``mlabeledtr``  | *not implemented* |\n",
    "| ``mtr``         | ``TableRow``      |\n",
    "| ``mtd``         | ``TableEntry``    |\n",
    "| ``maligngroup`` | *not implemented* |\n",
    "| ``malignmark``  | *not implemented* |"
   ]
  },
  {
   "cell_type": "markdown",
   "metadata": {},
   "source": [
    "### Building complex expressions with magic functions\n",
    "\n",
    "All magic functions of PyMathML objects have been implemented; therefore,\n",
    "complex expressions can be built very naturally. For example"
   ]
  },
  {
   "cell_type": "code",
   "execution_count": 7,
   "metadata": {
    "collapsed": true
   },
   "outputs": [],
   "source": [
    "f = Identifier('f')\n",
    "x = Identifier('x')"
   ]
  },
  {
   "cell_type": "code",
   "execution_count": 8,
   "metadata": {},
   "outputs": [
    {
     "name": "stdout",
     "output_type": "stream",
     "text": [
      "<msup><mrow><mi>f</mi><mo>⁡</mo><mfenced><msub><mi>x</mi><mn>1</mn></msub><msub><mi>x</mi><mn>2</mn></msub><msub><mi>x</mi><mn>3</mn></msub></mfenced></mrow><mn>2</mn></msup>\n"
     ]
    }
   ],
   "source": [
    "expr = f(x[1], x[2], x[3])**2\n",
    "print(expr)"
   ]
  },
  {
   "cell_type": "code",
   "execution_count": 9,
   "metadata": {},
   "outputs": [
    {
     "data": {
      "text/html": [
       "<math display=\"block\" xmlns=\"http://www.w3.org/1998/Math/MathML\"><msup><mrow><mi>f</mi><mo>⁡</mo><mfenced><msub><mi>x</mi><mn>1</mn></msub><msub><mi>x</mi><mn>2</mn></msub><msub><mi>x</mi><mn>3</mn></msub></mfenced></mrow><mn>2</mn></msup></math>"
      ],
      "text/plain": [
       "Sup(Row(Identifier('f'), Operator('\\u2061'), Fenced(Sub(Identifier('x'), Number(1)), Sub(Identifier('x'), Number(2)), Sub(Identifier('x'), Number(3)))), Number(2))"
      ]
     },
     "execution_count": 9,
     "metadata": {},
     "output_type": "execute_result"
    }
   ],
   "source": [
    "expr"
   ]
  },
  {
   "cell_type": "code",
   "execution_count": null,
   "metadata": {
    "collapsed": true
   },
   "outputs": [],
   "source": []
  }
 ],
 "metadata": {
  "kernelspec": {
   "display_name": "Python 3",
   "language": "python",
   "name": "python3"
  },
  "language_info": {
   "codemirror_mode": {
    "name": "ipython",
    "version": 3
   },
   "file_extension": ".py",
   "mimetype": "text/x-python",
   "name": "python",
   "nbconvert_exporter": "python",
   "pygments_lexer": "ipython3",
   "version": "3.6.2"
  }
 },
 "nbformat": 4,
 "nbformat_minor": 2
}
